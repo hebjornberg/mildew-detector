{
 "cells": [
  {
   "cell_type": "markdown",
   "metadata": {},
   "source": [
    "## Objectives\n",
    "\n",
    "* Fetch data from Kaggle and split it into test, train and validation.\n",
    "\n",
    "## Inputs\n",
    "\n",
    "*   Kaggle JSON file - the authentication token. \n",
    "\n",
    "## Outputs\n",
    "\n",
    "* Generate Dataset: inputs/datasets/cherry_leaves_dataset\n",
    "\n",
    "## Additional Comments | Insights | Conclusions\n",
    "\n",
    "\n",
    "* No additional comments.\n",
    "\n",
    "---"
   ]
  },
  {
   "cell_type": "markdown",
   "metadata": {},
   "source": [
    "## Install packages"
   ]
  },
  {
   "cell_type": "code",
   "execution_count": 59,
   "metadata": {},
   "outputs": [
    {
     "name": "stdout",
     "output_type": "stream",
     "text": [
      "Requirement already satisfied: numpy==1.21.6 in /workspace/.pip-modules/lib/python3.8/site-packages (from -r /workspace/mildew-detector/requirements.txt (line 1)) (1.21.6)\n",
      "Requirement already satisfied: pandas==1.3.5 in /workspace/.pip-modules/lib/python3.8/site-packages (from -r /workspace/mildew-detector/requirements.txt (line 2)) (1.3.5)\n",
      "Requirement already satisfied: matplotlib==3.5.3 in /workspace/.pip-modules/lib/python3.8/site-packages (from -r /workspace/mildew-detector/requirements.txt (line 3)) (3.5.3)\n",
      "Requirement already satisfied: seaborn==0.11.2 in /workspace/.pip-modules/lib/python3.8/site-packages (from -r /workspace/mildew-detector/requirements.txt (line 4)) (0.11.2)\n",
      "Requirement already satisfied: plotly==5.3.1 in /workspace/.pip-modules/lib/python3.8/site-packages (from -r /workspace/mildew-detector/requirements.txt (line 5)) (5.3.1)\n",
      "Requirement already satisfied: streamlit==1.15.0 in /workspace/.pip-modules/lib/python3.8/site-packages (from -r /workspace/mildew-detector/requirements.txt (line 7)) (1.15.0)\n",
      "Requirement already satisfied: scikit-learn==1.0.2 in /workspace/.pip-modules/lib/python3.8/site-packages (from -r /workspace/mildew-detector/requirements.txt (line 9)) (1.0.2)\n",
      "Requirement already satisfied: tensorflow-cpu==2.9.3 in /workspace/.pip-modules/lib/python3.8/site-packages (from -r /workspace/mildew-detector/requirements.txt (line 10)) (2.9.3)\n",
      "Requirement already satisfied: keras==2.9.0 in /workspace/.pip-modules/lib/python3.8/site-packages (from -r /workspace/mildew-detector/requirements.txt (line 11)) (2.9.0)\n",
      "Requirement already satisfied: protobuf==3.19.6 in /workspace/.pip-modules/lib/python3.8/site-packages (from -r /workspace/mildew-detector/requirements.txt (line 12)) (3.19.6)\n",
      "Requirement already satisfied: altair<5 in /workspace/.pip-modules/lib/python3.8/site-packages (from -r /workspace/mildew-detector/requirements.txt (line 13)) (4.2.2)\n",
      "Requirement already satisfied: python-dateutil>=2.7.3 in /workspace/.pip-modules/lib/python3.8/site-packages (from pandas==1.3.5->-r /workspace/mildew-detector/requirements.txt (line 2)) (2.9.0.post0)\n",
      "Requirement already satisfied: pytz>=2017.3 in /workspace/.pip-modules/lib/python3.8/site-packages (from pandas==1.3.5->-r /workspace/mildew-detector/requirements.txt (line 2)) (2024.1)\n",
      "Requirement already satisfied: pillow>=6.2.0 in /workspace/.pip-modules/lib/python3.8/site-packages (from matplotlib==3.5.3->-r /workspace/mildew-detector/requirements.txt (line 3)) (10.4.0)\n",
      "Requirement already satisfied: pyparsing>=2.2.1 in /workspace/.pip-modules/lib/python3.8/site-packages (from matplotlib==3.5.3->-r /workspace/mildew-detector/requirements.txt (line 3)) (3.1.2)\n",
      "Requirement already satisfied: fonttools>=4.22.0 in /workspace/.pip-modules/lib/python3.8/site-packages (from matplotlib==3.5.3->-r /workspace/mildew-detector/requirements.txt (line 3)) (4.53.1)\n",
      "Requirement already satisfied: packaging>=20.0 in /workspace/.pip-modules/lib/python3.8/site-packages (from matplotlib==3.5.3->-r /workspace/mildew-detector/requirements.txt (line 3)) (24.1)\n",
      "Requirement already satisfied: cycler>=0.10 in /workspace/.pip-modules/lib/python3.8/site-packages (from matplotlib==3.5.3->-r /workspace/mildew-detector/requirements.txt (line 3)) (0.12.1)\n",
      "Requirement already satisfied: kiwisolver>=1.0.1 in /workspace/.pip-modules/lib/python3.8/site-packages (from matplotlib==3.5.3->-r /workspace/mildew-detector/requirements.txt (line 3)) (1.4.5)\n",
      "Requirement already satisfied: scipy>=1.0 in /workspace/.pip-modules/lib/python3.8/site-packages (from seaborn==0.11.2->-r /workspace/mildew-detector/requirements.txt (line 4)) (1.10.1)\n",
      "Requirement already satisfied: six in /workspace/.pip-modules/lib/python3.8/site-packages (from plotly==5.3.1->-r /workspace/mildew-detector/requirements.txt (line 5)) (1.16.0)\n",
      "Requirement already satisfied: tenacity>=6.2.0 in /workspace/.pip-modules/lib/python3.8/site-packages (from plotly==5.3.1->-r /workspace/mildew-detector/requirements.txt (line 5)) (9.0.0)\n",
      "Requirement already satisfied: blinker>=1.0.0 in /workspace/.pip-modules/lib/python3.8/site-packages (from streamlit==1.15.0->-r /workspace/mildew-detector/requirements.txt (line 7)) (1.8.2)\n",
      "Requirement already satisfied: tzlocal>=1.1 in /workspace/.pip-modules/lib/python3.8/site-packages (from streamlit==1.15.0->-r /workspace/mildew-detector/requirements.txt (line 7)) (5.2)\n",
      "Requirement already satisfied: rich>=10.11.0 in /workspace/.pip-modules/lib/python3.8/site-packages (from streamlit==1.15.0->-r /workspace/mildew-detector/requirements.txt (line 7)) (13.7.1)\n",
      "Requirement already satisfied: typing-extensions>=3.10.0.0 in /workspace/.pip-modules/lib/python3.8/site-packages (from streamlit==1.15.0->-r /workspace/mildew-detector/requirements.txt (line 7)) (4.12.2)\n",
      "Requirement already satisfied: pyarrow>=4.0 in /workspace/.pip-modules/lib/python3.8/site-packages (from streamlit==1.15.0->-r /workspace/mildew-detector/requirements.txt (line 7)) (17.0.0)\n",
      "Requirement already satisfied: validators>=0.2 in /workspace/.pip-modules/lib/python3.8/site-packages (from streamlit==1.15.0->-r /workspace/mildew-detector/requirements.txt (line 7)) (0.33.0)\n",
      "Requirement already satisfied: toml in /workspace/.pip-modules/lib/python3.8/site-packages (from streamlit==1.15.0->-r /workspace/mildew-detector/requirements.txt (line 7)) (0.10.2)\n",
      "Requirement already satisfied: importlib-metadata>=1.4 in /workspace/.pip-modules/lib/python3.8/site-packages (from streamlit==1.15.0->-r /workspace/mildew-detector/requirements.txt (line 7)) (8.2.0)\n",
      "Requirement already satisfied: gitpython!=3.1.19 in /workspace/.pip-modules/lib/python3.8/site-packages (from streamlit==1.15.0->-r /workspace/mildew-detector/requirements.txt (line 7)) (3.1.43)\n",
      "Requirement already satisfied: cachetools>=4.0 in /workspace/.pip-modules/lib/python3.8/site-packages (from streamlit==1.15.0->-r /workspace/mildew-detector/requirements.txt (line 7)) (5.4.0)\n",
      "Requirement already satisfied: tornado>=5.0 in /workspace/.pip-modules/lib/python3.8/site-packages (from streamlit==1.15.0->-r /workspace/mildew-detector/requirements.txt (line 7)) (6.4.1)\n",
      "Requirement already satisfied: pydeck>=0.1.dev5 in /workspace/.pip-modules/lib/python3.8/site-packages (from streamlit==1.15.0->-r /workspace/mildew-detector/requirements.txt (line 7)) (0.9.1)\n",
      "Requirement already satisfied: semver in /workspace/.pip-modules/lib/python3.8/site-packages (from streamlit==1.15.0->-r /workspace/mildew-detector/requirements.txt (line 7)) (3.0.2)\n",
      "Requirement already satisfied: pympler>=0.9 in /workspace/.pip-modules/lib/python3.8/site-packages (from streamlit==1.15.0->-r /workspace/mildew-detector/requirements.txt (line 7)) (1.1)\n",
      "Requirement already satisfied: click>=7.0 in /workspace/.pip-modules/lib/python3.8/site-packages (from streamlit==1.15.0->-r /workspace/mildew-detector/requirements.txt (line 7)) (8.1.7)\n",
      "Requirement already satisfied: watchdog in /workspace/.pip-modules/lib/python3.8/site-packages (from streamlit==1.15.0->-r /workspace/mildew-detector/requirements.txt (line 7)) (4.0.1)\n",
      "Requirement already satisfied: requests>=2.4 in /workspace/.pip-modules/lib/python3.8/site-packages (from streamlit==1.15.0->-r /workspace/mildew-detector/requirements.txt (line 7)) (2.32.3)\n",
      "Requirement already satisfied: threadpoolctl>=2.0.0 in /workspace/.pip-modules/lib/python3.8/site-packages (from scikit-learn==1.0.2->-r /workspace/mildew-detector/requirements.txt (line 9)) (3.5.0)\n",
      "Requirement already satisfied: joblib>=0.11 in /workspace/.pip-modules/lib/python3.8/site-packages (from scikit-learn==1.0.2->-r /workspace/mildew-detector/requirements.txt (line 9)) (1.4.2)\n",
      "Requirement already satisfied: absl-py>=1.0.0 in /workspace/.pip-modules/lib/python3.8/site-packages (from tensorflow-cpu==2.9.3->-r /workspace/mildew-detector/requirements.txt (line 10)) (2.1.0)\n",
      "Requirement already satisfied: h5py>=2.9.0 in /workspace/.pip-modules/lib/python3.8/site-packages (from tensorflow-cpu==2.9.3->-r /workspace/mildew-detector/requirements.txt (line 10)) (3.11.0)\n",
      "Requirement already satisfied: termcolor>=1.1.0 in /workspace/.pip-modules/lib/python3.8/site-packages (from tensorflow-cpu==2.9.3->-r /workspace/mildew-detector/requirements.txt (line 10)) (2.4.0)\n",
      "Requirement already satisfied: tensorflow-estimator<2.10.0,>=2.9.0rc0 in /workspace/.pip-modules/lib/python3.8/site-packages (from tensorflow-cpu==2.9.3->-r /workspace/mildew-detector/requirements.txt (line 10)) (2.9.0)\n",
      "Requirement already satisfied: wrapt>=1.11.0 in /workspace/.pip-modules/lib/python3.8/site-packages (from tensorflow-cpu==2.9.3->-r /workspace/mildew-detector/requirements.txt (line 10)) (1.16.0)\n",
      "Requirement already satisfied: grpcio<2.0,>=1.24.3 in /workspace/.pip-modules/lib/python3.8/site-packages (from tensorflow-cpu==2.9.3->-r /workspace/mildew-detector/requirements.txt (line 10)) (1.65.4)\n",
      "Requirement already satisfied: google-pasta>=0.1.1 in /workspace/.pip-modules/lib/python3.8/site-packages (from tensorflow-cpu==2.9.3->-r /workspace/mildew-detector/requirements.txt (line 10)) (0.2.0)\n",
      "Requirement already satisfied: opt-einsum>=2.3.2 in /workspace/.pip-modules/lib/python3.8/site-packages (from tensorflow-cpu==2.9.3->-r /workspace/mildew-detector/requirements.txt (line 10)) (3.3.0)\n",
      "Requirement already satisfied: libclang>=13.0.0 in /workspace/.pip-modules/lib/python3.8/site-packages (from tensorflow-cpu==2.9.3->-r /workspace/mildew-detector/requirements.txt (line 10)) (18.1.1)\n",
      "Requirement already satisfied: flatbuffers<2,>=1.12 in /workspace/.pip-modules/lib/python3.8/site-packages (from tensorflow-cpu==2.9.3->-r /workspace/mildew-detector/requirements.txt (line 10)) (1.12)\n",
      "Requirement already satisfied: tensorflow-io-gcs-filesystem>=0.23.1 in /workspace/.pip-modules/lib/python3.8/site-packages (from tensorflow-cpu==2.9.3->-r /workspace/mildew-detector/requirements.txt (line 10)) (0.34.0)\n",
      "Requirement already satisfied: gast<=0.4.0,>=0.2.1 in /workspace/.pip-modules/lib/python3.8/site-packages (from tensorflow-cpu==2.9.3->-r /workspace/mildew-detector/requirements.txt (line 10)) (0.4.0)\n",
      "Requirement already satisfied: astunparse>=1.6.0 in /workspace/.pip-modules/lib/python3.8/site-packages (from tensorflow-cpu==2.9.3->-r /workspace/mildew-detector/requirements.txt (line 10)) (1.6.3)\n",
      "Requirement already satisfied: keras-preprocessing>=1.1.1 in /workspace/.pip-modules/lib/python3.8/site-packages (from tensorflow-cpu==2.9.3->-r /workspace/mildew-detector/requirements.txt (line 10)) (1.1.2)\n",
      "Requirement already satisfied: tensorboard<2.10,>=2.9 in /workspace/.pip-modules/lib/python3.8/site-packages (from tensorflow-cpu==2.9.3->-r /workspace/mildew-detector/requirements.txt (line 10)) (2.9.1)\n",
      "Requirement already satisfied: setuptools in /home/gitpod/.pyenv/versions/3.8.19/lib/python3.8/site-packages (from tensorflow-cpu==2.9.3->-r /workspace/mildew-detector/requirements.txt (line 10)) (56.0.0)\n",
      "Requirement already satisfied: entrypoints in /workspace/.pip-modules/lib/python3.8/site-packages (from altair<5->-r /workspace/mildew-detector/requirements.txt (line 13)) (0.4)\n",
      "Requirement already satisfied: toolz in /workspace/.pip-modules/lib/python3.8/site-packages (from altair<5->-r /workspace/mildew-detector/requirements.txt (line 13)) (0.12.1)\n",
      "Requirement already satisfied: jinja2 in /workspace/.pip-modules/lib/python3.8/site-packages (from altair<5->-r /workspace/mildew-detector/requirements.txt (line 13)) (3.1.4)\n",
      "Requirement already satisfied: jsonschema>=3.0 in /workspace/.pip-modules/lib/python3.8/site-packages (from altair<5->-r /workspace/mildew-detector/requirements.txt (line 13)) (4.23.0)\n",
      "Requirement already satisfied: wheel<1.0,>=0.23.0 in /workspace/.pip-modules/lib/python3.8/site-packages (from astunparse>=1.6.0->tensorflow-cpu==2.9.3->-r /workspace/mildew-detector/requirements.txt (line 10)) (0.43.0)\n",
      "Requirement already satisfied: gitdb<5,>=4.0.1 in /workspace/.pip-modules/lib/python3.8/site-packages (from gitpython!=3.1.19->streamlit==1.15.0->-r /workspace/mildew-detector/requirements.txt (line 7)) (4.0.11)\n",
      "Requirement already satisfied: zipp>=0.5 in /workspace/.pip-modules/lib/python3.8/site-packages (from importlib-metadata>=1.4->streamlit==1.15.0->-r /workspace/mildew-detector/requirements.txt (line 7)) (3.19.2)\n",
      "Requirement already satisfied: pkgutil-resolve-name>=1.3.10 in /workspace/.pip-modules/lib/python3.8/site-packages (from jsonschema>=3.0->altair<5->-r /workspace/mildew-detector/requirements.txt (line 13)) (1.3.10)\n",
      "Requirement already satisfied: rpds-py>=0.7.1 in /workspace/.pip-modules/lib/python3.8/site-packages (from jsonschema>=3.0->altair<5->-r /workspace/mildew-detector/requirements.txt (line 13)) (0.19.1)\n",
      "Requirement already satisfied: jsonschema-specifications>=2023.03.6 in /workspace/.pip-modules/lib/python3.8/site-packages (from jsonschema>=3.0->altair<5->-r /workspace/mildew-detector/requirements.txt (line 13)) (2023.12.1)\n",
      "Requirement already satisfied: referencing>=0.28.4 in /workspace/.pip-modules/lib/python3.8/site-packages (from jsonschema>=3.0->altair<5->-r /workspace/mildew-detector/requirements.txt (line 13)) (0.35.1)\n",
      "Requirement already satisfied: importlib-resources>=1.4.0 in /workspace/.pip-modules/lib/python3.8/site-packages (from jsonschema>=3.0->altair<5->-r /workspace/mildew-detector/requirements.txt (line 13)) (6.4.0)\n",
      "Requirement already satisfied: attrs>=22.2.0 in /workspace/.pip-modules/lib/python3.8/site-packages (from jsonschema>=3.0->altair<5->-r /workspace/mildew-detector/requirements.txt (line 13)) (23.2.0)\n",
      "Requirement already satisfied: MarkupSafe>=2.0 in /workspace/.pip-modules/lib/python3.8/site-packages (from jinja2->altair<5->-r /workspace/mildew-detector/requirements.txt (line 13)) (2.1.5)\n",
      "Requirement already satisfied: idna<4,>=2.5 in /workspace/.pip-modules/lib/python3.8/site-packages (from requests>=2.4->streamlit==1.15.0->-r /workspace/mildew-detector/requirements.txt (line 7)) (3.7)\n",
      "Requirement already satisfied: charset-normalizer<4,>=2 in /workspace/.pip-modules/lib/python3.8/site-packages (from requests>=2.4->streamlit==1.15.0->-r /workspace/mildew-detector/requirements.txt (line 7)) (3.3.2)\n",
      "Requirement already satisfied: certifi>=2017.4.17 in /workspace/.pip-modules/lib/python3.8/site-packages (from requests>=2.4->streamlit==1.15.0->-r /workspace/mildew-detector/requirements.txt (line 7)) (2024.7.4)\n",
      "Requirement already satisfied: urllib3<3,>=1.21.1 in /workspace/.pip-modules/lib/python3.8/site-packages (from requests>=2.4->streamlit==1.15.0->-r /workspace/mildew-detector/requirements.txt (line 7)) (2.2.2)\n",
      "Requirement already satisfied: pygments<3.0.0,>=2.13.0 in /workspace/.pip-modules/lib/python3.8/site-packages (from rich>=10.11.0->streamlit==1.15.0->-r /workspace/mildew-detector/requirements.txt (line 7)) (2.18.0)\n",
      "Requirement already satisfied: markdown-it-py>=2.2.0 in /workspace/.pip-modules/lib/python3.8/site-packages (from rich>=10.11.0->streamlit==1.15.0->-r /workspace/mildew-detector/requirements.txt (line 7)) (3.0.0)\n",
      "Requirement already satisfied: tensorboard-plugin-wit>=1.6.0 in /workspace/.pip-modules/lib/python3.8/site-packages (from tensorboard<2.10,>=2.9->tensorflow-cpu==2.9.3->-r /workspace/mildew-detector/requirements.txt (line 10)) (1.8.1)\n",
      "Requirement already satisfied: werkzeug>=1.0.1 in /workspace/.pip-modules/lib/python3.8/site-packages (from tensorboard<2.10,>=2.9->tensorflow-cpu==2.9.3->-r /workspace/mildew-detector/requirements.txt (line 10)) (3.0.3)\n",
      "Requirement already satisfied: google-auth-oauthlib<0.5,>=0.4.1 in /workspace/.pip-modules/lib/python3.8/site-packages (from tensorboard<2.10,>=2.9->tensorflow-cpu==2.9.3->-r /workspace/mildew-detector/requirements.txt (line 10)) (0.4.6)\n",
      "Requirement already satisfied: markdown>=2.6.8 in /workspace/.pip-modules/lib/python3.8/site-packages (from tensorboard<2.10,>=2.9->tensorflow-cpu==2.9.3->-r /workspace/mildew-detector/requirements.txt (line 10)) (3.6)\n",
      "Requirement already satisfied: tensorboard-data-server<0.7.0,>=0.6.0 in /workspace/.pip-modules/lib/python3.8/site-packages (from tensorboard<2.10,>=2.9->tensorflow-cpu==2.9.3->-r /workspace/mildew-detector/requirements.txt (line 10)) (0.6.1)\n",
      "Requirement already satisfied: google-auth<3,>=1.6.3 in /workspace/.pip-modules/lib/python3.8/site-packages (from tensorboard<2.10,>=2.9->tensorflow-cpu==2.9.3->-r /workspace/mildew-detector/requirements.txt (line 10)) (2.32.0)\n",
      "Requirement already satisfied: backports.zoneinfo in /workspace/.pip-modules/lib/python3.8/site-packages (from tzlocal>=1.1->streamlit==1.15.0->-r /workspace/mildew-detector/requirements.txt (line 7)) (0.2.1)\n",
      "Requirement already satisfied: smmap<6,>=3.0.1 in /workspace/.pip-modules/lib/python3.8/site-packages (from gitdb<5,>=4.0.1->gitpython!=3.1.19->streamlit==1.15.0->-r /workspace/mildew-detector/requirements.txt (line 7)) (5.0.1)\n",
      "Requirement already satisfied: pyasn1-modules>=0.2.1 in /workspace/.pip-modules/lib/python3.8/site-packages (from google-auth<3,>=1.6.3->tensorboard<2.10,>=2.9->tensorflow-cpu==2.9.3->-r /workspace/mildew-detector/requirements.txt (line 10)) (0.4.0)\n",
      "Requirement already satisfied: rsa<5,>=3.1.4 in /workspace/.pip-modules/lib/python3.8/site-packages (from google-auth<3,>=1.6.3->tensorboard<2.10,>=2.9->tensorflow-cpu==2.9.3->-r /workspace/mildew-detector/requirements.txt (line 10)) (4.9)\n",
      "Requirement already satisfied: requests-oauthlib>=0.7.0 in /workspace/.pip-modules/lib/python3.8/site-packages (from google-auth-oauthlib<0.5,>=0.4.1->tensorboard<2.10,>=2.9->tensorflow-cpu==2.9.3->-r /workspace/mildew-detector/requirements.txt (line 10)) (2.0.0)\n",
      "Requirement already satisfied: mdurl~=0.1 in /workspace/.pip-modules/lib/python3.8/site-packages (from markdown-it-py>=2.2.0->rich>=10.11.0->streamlit==1.15.0->-r /workspace/mildew-detector/requirements.txt (line 7)) (0.1.2)\n",
      "Requirement already satisfied: pyasn1<0.7.0,>=0.4.6 in /workspace/.pip-modules/lib/python3.8/site-packages (from pyasn1-modules>=0.2.1->google-auth<3,>=1.6.3->tensorboard<2.10,>=2.9->tensorflow-cpu==2.9.3->-r /workspace/mildew-detector/requirements.txt (line 10)) (0.6.0)\n",
      "Requirement already satisfied: oauthlib>=3.0.0 in /workspace/.pip-modules/lib/python3.8/site-packages (from requests-oauthlib>=0.7.0->google-auth-oauthlib<0.5,>=0.4.1->tensorboard<2.10,>=2.9->tensorflow-cpu==2.9.3->-r /workspace/mildew-detector/requirements.txt (line 10)) (3.2.2)\n",
      "\n",
      "\u001b[1m[\u001b[0m\u001b[34;49mnotice\u001b[0m\u001b[1;39;49m]\u001b[0m\u001b[39;49m A new release of pip is available: \u001b[0m\u001b[31;49m23.0.1\u001b[0m\u001b[39;49m -> \u001b[0m\u001b[32;49m24.2\u001b[0m\n",
      "\u001b[1m[\u001b[0m\u001b[34;49mnotice\u001b[0m\u001b[1;39;49m]\u001b[0m\u001b[39;49m To update, run: \u001b[0m\u001b[32;49mpip install --upgrade pip\u001b[0m\n",
      "Note: you may need to restart the kernel to use updated packages.\n"
     ]
    }
   ],
   "source": [
    "%pip install -r /workspace/mildew-detector/requirements.txt"
   ]
  },
  {
   "cell_type": "code",
   "execution_count": 60,
   "metadata": {},
   "outputs": [],
   "source": [
    "import numpy\n",
    "import os"
   ]
  },
  {
   "cell_type": "markdown",
   "metadata": {},
   "source": [
    "## Change working directory"
   ]
  },
  {
   "cell_type": "code",
   "execution_count": 61,
   "metadata": {},
   "outputs": [
    {
     "data": {
      "text/plain": [
       "'/workspace/mildew-detector'"
      ]
     },
     "execution_count": 61,
     "metadata": {},
     "output_type": "execute_result"
    }
   ],
   "source": [
    "current_dir = os.getcwd()\n",
    "current_dir"
   ]
  },
  {
   "cell_type": "code",
   "execution_count": 62,
   "metadata": {},
   "outputs": [
    {
     "name": "stdout",
     "output_type": "stream",
     "text": [
      "You set a new current directory\n"
     ]
    }
   ],
   "source": [
    "os.chdir('/workspace/mildew-detector')\n",
    "print(\"You set a new current directory\")"
   ]
  },
  {
   "cell_type": "code",
   "execution_count": 63,
   "metadata": {},
   "outputs": [
    {
     "data": {
      "text/plain": [
       "'/workspace/mildew-detector'"
      ]
     },
     "execution_count": 63,
     "metadata": {},
     "output_type": "execute_result"
    }
   ],
   "source": [
    "current_dir = os.getcwd()\n",
    "current_dir"
   ]
  },
  {
   "cell_type": "markdown",
   "metadata": {},
   "source": [
    "## Install Kaggle"
   ]
  },
  {
   "cell_type": "code",
   "execution_count": 64,
   "metadata": {},
   "outputs": [
    {
     "name": "stdout",
     "output_type": "stream",
     "text": [
      "Requirement already satisfied: kaggle==1.5.12 in /workspace/.pip-modules/lib/python3.8/site-packages (1.5.12)\n",
      "Requirement already satisfied: tqdm in /workspace/.pip-modules/lib/python3.8/site-packages (from kaggle==1.5.12) (4.66.4)\n",
      "Requirement already satisfied: python-dateutil in /workspace/.pip-modules/lib/python3.8/site-packages (from kaggle==1.5.12) (2.9.0.post0)\n",
      "Requirement already satisfied: requests in /workspace/.pip-modules/lib/python3.8/site-packages (from kaggle==1.5.12) (2.32.3)\n",
      "Requirement already satisfied: certifi in /workspace/.pip-modules/lib/python3.8/site-packages (from kaggle==1.5.12) (2024.7.4)\n",
      "Requirement already satisfied: python-slugify in /workspace/.pip-modules/lib/python3.8/site-packages (from kaggle==1.5.12) (8.0.4)\n",
      "Requirement already satisfied: six>=1.10 in /workspace/.pip-modules/lib/python3.8/site-packages (from kaggle==1.5.12) (1.16.0)\n",
      "Requirement already satisfied: urllib3 in /workspace/.pip-modules/lib/python3.8/site-packages (from kaggle==1.5.12) (2.2.2)\n",
      "Requirement already satisfied: text-unidecode>=1.3 in /workspace/.pip-modules/lib/python3.8/site-packages (from python-slugify->kaggle==1.5.12) (1.3)\n",
      "Requirement already satisfied: idna<4,>=2.5 in /workspace/.pip-modules/lib/python3.8/site-packages (from requests->kaggle==1.5.12) (3.7)\n",
      "Requirement already satisfied: charset-normalizer<4,>=2 in /workspace/.pip-modules/lib/python3.8/site-packages (from requests->kaggle==1.5.12) (3.3.2)\n",
      "\n",
      "\u001b[1m[\u001b[0m\u001b[34;49mnotice\u001b[0m\u001b[1;39;49m]\u001b[0m\u001b[39;49m A new release of pip is available: \u001b[0m\u001b[31;49m23.0.1\u001b[0m\u001b[39;49m -> \u001b[0m\u001b[32;49m24.2\u001b[0m\n",
      "\u001b[1m[\u001b[0m\u001b[34;49mnotice\u001b[0m\u001b[1;39;49m]\u001b[0m\u001b[39;49m To update, run: \u001b[0m\u001b[32;49mpip install --upgrade pip\u001b[0m\n",
      "Note: you may need to restart the kernel to use updated packages.\n"
     ]
    }
   ],
   "source": [
    "# install kaggle package\n",
    "%pip install kaggle==1.5.12"
   ]
  },
  {
   "cell_type": "code",
   "execution_count": 65,
   "metadata": {},
   "outputs": [],
   "source": [
    "os.environ['KAGGLE_CONFIG_DIR'] = os.getcwd()\n",
    "! chmod 600 kaggle.json"
   ]
  },
  {
   "cell_type": "markdown",
   "metadata": {},
   "source": [
    "## Download dataset from Kaggle"
   ]
  },
  {
   "cell_type": "code",
   "execution_count": 66,
   "metadata": {},
   "outputs": [
    {
     "name": "stdout",
     "output_type": "stream",
     "text": [
      "Downloading cherry-leaves.zip to inputs/cherry_leaves_dataset\n",
      " 96%|████████████████████████████████████▌ | 53.0M/55.0M [00:02<00:00, 40.2MB/s]\n",
      "100%|██████████████████████████████████████| 55.0M/55.0M [00:02<00:00, 27.5MB/s]\n"
     ]
    }
   ],
   "source": [
    "KaggleDatasetPath = \"codeinstitute/cherry-leaves\"\n",
    "DestinationFolder = \"inputs/cherry_leaves_dataset\"   \n",
    "! kaggle datasets download -d {KaggleDatasetPath} -p {DestinationFolder}"
   ]
  },
  {
   "cell_type": "markdown",
   "metadata": {},
   "source": [
    "## Unzip downloaded file"
   ]
  },
  {
   "cell_type": "code",
   "execution_count": null,
   "metadata": {},
   "outputs": [],
   "source": [
    "import zipfile\n",
    "with zipfile.ZipFile(DestinationFolder + '/cherry-leaves.zip', 'r') as zip_ref:\n",
    "    zip_ref.extractall(DestinationFolder)\n",
    "\n",
    "os.remove(DestinationFolder + '/cherry-leaves.zip')"
   ]
  },
  {
   "cell_type": "markdown",
   "metadata": {},
   "source": [
    "### Data Cleaning\n",
    "\n",
    "- Remove files that are not images"
   ]
  },
  {
   "cell_type": "code",
   "execution_count": null,
   "metadata": {},
   "outputs": [],
   "source": [
    "def remove_non_image_file(my_data_dir):\n",
    "    image_extension = ('.png', '.jpg', '.jpeg')\n",
    "    folders = os.listdir(my_data_dir)\n",
    "    for folder in folders:\n",
    "        files = os.listdir(my_data_dir + '/' + folder)\n",
    "        # print(files)\n",
    "        i = []\n",
    "        j = []\n",
    "        for given_file in files:\n",
    "            if not given_file.lower().endswith(image_extension):\n",
    "                file_location = my_data_dir + '/' + folder + '/' + given_file\n",
    "                os.remove(file_location)  # remove non image file\n",
    "                i.append(1)\n",
    "            else:\n",
    "                j.append(1)\n",
    "                pass\n",
    "        print(f\"Folder: {folder} - has image file\", len(j))\n",
    "        print(f\"Folder: {folder} - has non-image file\", len(i))"
   ]
  },
  {
   "cell_type": "code",
   "execution_count": null,
   "metadata": {},
   "outputs": [],
   "source": [
    "remove_non_image_file(my_data_dir='inputs/cherry_leaves_dataset/cherry-leaves')"
   ]
  },
  {
   "cell_type": "markdown",
   "metadata": {},
   "source": [
    "## Split Dataset \n",
    "\n",
    "Split the dataset into the following ratio: \n",
    "\n",
    "- Train - 70% \n",
    "- Test - 20% \n",
    "- Validation - 10% "
   ]
  },
  {
   "cell_type": "code",
   "execution_count": null,
   "metadata": {},
   "outputs": [],
   "source": [
    "import os\n",
    "import shutil\n",
    "import random\n",
    "import joblib\n",
    "\n",
    "\n",
    "def split_train_validation_test_images(my_data_dir, train_set_ratio, validation_set_ratio, test_set_ratio):\n",
    "\n",
    "    if train_set_ratio + validation_set_ratio + test_set_ratio != 1.0:\n",
    "        print(\"train_set_ratio + validation_set_ratio + test_set_ratio should sum to 1.0\")\n",
    "        return\n",
    "\n",
    "    # gets classes labels\n",
    "    labels = os.listdir(my_data_dir)  # it should get only the folder name\n",
    "    if 'test' in labels:\n",
    "        pass\n",
    "    else:\n",
    "        # create train, test folders with classes labels sub-folder\n",
    "        for folder in ['train', 'validation', 'test']:\n",
    "            for label in labels:\n",
    "                os.makedirs(name=my_data_dir + '/' + folder + '/' + label)\n",
    "\n",
    "        for label in labels:\n",
    "\n",
    "            files = os.listdir(my_data_dir + '/' + label)\n",
    "            random.shuffle(files)\n",
    "\n",
    "            train_set_files_qty = int(len(files) * train_set_ratio)\n",
    "            validation_set_files_qty = int(len(files) * validation_set_ratio)\n",
    "\n",
    "            count = 1\n",
    "            for file_name in files:\n",
    "                if count <= train_set_files_qty:\n",
    "                    # move a given file to the train set\n",
    "                    shutil.move(my_data_dir + '/' + label + '/' + file_name,\n",
    "                                my_data_dir + '/train/' + label + '/' + file_name)\n",
    "\n",
    "                elif count <= (train_set_files_qty + validation_set_files_qty):\n",
    "                    # move a given file to the validation set\n",
    "                    shutil.move(my_data_dir + '/' + label + '/' + file_name,\n",
    "                                my_data_dir + '/validation/' + label + '/' + file_name)\n",
    "\n",
    "                else:\n",
    "                    # move given file to test set\n",
    "                    shutil.move(my_data_dir + '/' + label + '/' + file_name,\n",
    "                                my_data_dir + '/test/' + label + '/' + file_name)\n",
    "\n",
    "                count += 1\n",
    "\n",
    "            os.rmdir(my_data_dir + '/' + label)\n"
   ]
  },
  {
   "cell_type": "code",
   "execution_count": null,
   "metadata": {},
   "outputs": [],
   "source": [
    "split_train_validation_test_images(my_data_dir=f\"inputs/cherry_leaves_dataset/cherry-leaves\",\n",
    "                                   train_set_ratio=0.7,\n",
    "                                   validation_set_ratio=0.1,\n",
    "                                   test_set_ratio=0.2\n",
    "                                   )"
   ]
  },
  {
   "cell_type": "markdown",
   "metadata": {},
   "source": [
    "## Conclusion \n",
    "\n",
    "Dataset has been downloaded and images split into train, test and validation.\\\n",
    "Data is now prepared for visualization and analysis.\n",
    "Contiune to Data visualization for the next step."
   ]
  }
 ],
 "metadata": {
  "kernelspec": {
   "display_name": "Python 3",
   "language": "python",
   "name": "python3"
  },
  "language_info": {
   "codemirror_mode": {
    "name": "ipython",
    "version": 3
   },
   "file_extension": ".py",
   "mimetype": "text/x-python",
   "name": "python",
   "nbconvert_exporter": "python",
   "pygments_lexer": "ipython3",
   "version": "3.8.19"
  }
 },
 "nbformat": 4,
 "nbformat_minor": 2
}
