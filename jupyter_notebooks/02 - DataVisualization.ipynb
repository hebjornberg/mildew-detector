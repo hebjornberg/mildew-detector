{
 "cells": [
  {
   "cell_type": "code",
   "execution_count": null,
   "metadata": {},
   "outputs": [],
   "source": [
    "# Data Visualization Notebook"
   ]
  },
  {
   "cell_type": "code",
   "execution_count": null,
   "metadata": {},
   "outputs": [],
   "source": [
    "## Objectives\n",
    "\n",
    "*   Answer business requirement 1: \n",
    "    * The client is interested to have a study to visually differentiate a parasitized and uninfected cell.\n",
    "\n",
    "\n",
    "## Inputs\n",
    "\n",
    "* inputs/cherry_leaves_dataset/cherry_leaves/train\n",
    "* inputs/cherry_leaves_dataset/cherry_leaves/test\n",
    "* inputs/cherry_leaves_dataset/cherry_leaves/validation\n",
    "\n",
    "## Outputs\n",
    "\n",
    "* Image shape embeddings pickle file.\n",
    "* Mean and variability of images per label plot.\n",
    "* Plot to distinguish the contrast between healthy leaves and leaves with podwery mildew.\n",
    "* Generate code that answers business requirement 1 and can be used to build an image montage on the Streamlit dashboard.\n",
    "\n",
    "## Additional Comments | Insights | Conclusions\n"
   ]
  },
  {
   "cell_type": "code",
   "execution_count": null,
   "metadata": {},
   "outputs": [],
   "source": []
  }
 ],
 "metadata": {
  "language_info": {
   "name": "python"
  }
 },
 "nbformat": 4,
 "nbformat_minor": 2
}
